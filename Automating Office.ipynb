{
 "cells": [
  {
   "cell_type": "markdown",
   "metadata": {
    "slideshow": {
     "slide_type": "slide"
    }
   },
   "source": [
    "##  Automating Microsoft Office with Python\n",
    "\n",
    "About Me: Nikhil Kabbin\n",
    "- Data Scientist @Gramener\n",
    "- Twitter/Github: @nikhilkabbin"
   ]
  },
  {
   "cell_type": "markdown",
   "metadata": {
    "slideshow": {
     "slide_type": "slide"
    }
   },
   "source": [
    "<img width=\"1080\" src=\"comic.png\">"
   ]
  },
  {
   "cell_type": "markdown",
   "metadata": {
    "slideshow": {
     "slide_type": "slide"
    }
   },
   "source": [
    "Windows applications, for many years, have provided a COM API for automation. This includes Microsoft Office as well.\n",
    "\n",
    "pywin32 is a library that lets you do many interesting things in Windows, including access these COM APIs.\n",
    "\n",
    "For example, to open PowerPoint and draw a circle, this is what it takes:"
   ]
  },
  {
   "cell_type": "code",
   "execution_count": 29,
   "metadata": {
    "slideshow": {
     "slide_type": "slide"
    }
   },
   "outputs": [],
   "source": [
    "import win32com.client\n",
    "\n",
    "# Open PowerPoint\n",
    "Application = win32com.client.Dispatch(\"PowerPoint.Application\")\n",
    "\n",
    "# Add a presentation\n",
    "Presentation = Application.Presentations.Add()\n",
    "\n",
    "# Add a slide with a blank layout (12 stands for blank layout)\n",
    "Base = Presentation.Slides.Add(1, 12)\n",
    "\n",
    "\n",
    "# Add an oval. Shape 9 is an oval.\n",
    "oval = Base.Shapes.AddShape(9, 100, 100, 100, 100)"
   ]
  },
  {
   "cell_type": "markdown",
   "metadata": {
    "slideshow": {
     "slide_type": "skip"
    }
   },
   "source": [
    "You'll have to try this out to see the result, but just FYI, this will open a new PowerPoint window and add a slide with a circle in it.\n",
    "\n",
    "This opens up a lot of opportunities for slideware. Similarly, we can open an Excel application, add a circle, and change a few cells."
   ]
  },
  {
   "cell_type": "markdown",
   "metadata": {
    "slideshow": {
     "slide_type": "slide"
    }
   },
   "source": [
    "### We can also open Excel application and add a circle, and change few cells"
   ]
  },
  {
   "cell_type": "code",
   "execution_count": 30,
   "metadata": {
    "slideshow": {
     "slide_type": "fragment"
    }
   },
   "outputs": [],
   "source": [
    "# Open Excel\n",
    "Application = win32com.client.Dispatch(\"Excel.Application\")\n",
    "\n",
    "# Show Excel. Unlike PPT, Word & Excel open up \"hidden\"\n",
    "Application.Visible = 10\n",
    "\n",
    "# Add a workbook\n",
    "Workbook = Application.Workbooks.Add()\n",
    "\n",
    "# Take the active sheet\n",
    "Base = Workbook.ActiveSheet\n",
    "\n",
    "# Add an oval. Shape 9 is an oval.\n",
    "oval = Base.Shapes.AddShape(9, 100, 100, 100, 100)\n",
    "\n",
    "# In the first row, add Values: 0.0, 0.5, 1.0\n",
    "Base.Cells(1, 1).Value = 'Values'\n",
    "Base.Cells(1, 2).Value = 0.0\n",
    "Base.Cells(1, 3).Value = 0.5\n",
    "Base.Cells(1, 4).Value = 1.0"
   ]
  },
  {
   "cell_type": "markdown",
   "metadata": {
    "slideshow": {
     "slide_type": "subslide"
    }
   },
   "source": [
    "This means one can go about creating Excel models directly with Python."
   ]
  },
  {
   "cell_type": "markdown",
   "metadata": {
    "slideshow": {
     "slide_type": "slide"
    }
   },
   "source": [
    "## Picturing the IMDb Top 250\n",
    "\n",
    "Let's begin by creating a slide that shows all of the [Top 250 movies](http://www.imdb.com/chart/top) on the IMDb.\n",
    "\n",
    "First, let's load all the movies."
   ]
  },
  {
   "cell_type": "code",
   "execution_count": 33,
   "metadata": {
    "slideshow": {
     "slide_type": "fragment"
    }
   },
   "outputs": [
    {
     "data": {
      "text/plain": [
       "[<a href=\"/title/tt0111161/\" title=\"Frank Darabont (dir.), Tim Robbins, Morgan Freeman\">The Shawshank Redemption</a>,\n",
       " <a href=\"/title/tt0068646/\" title=\"Francis Ford Coppola (dir.), Marlon Brando, Al Pacino\">The Godfather</a>,\n",
       " <a href=\"/title/tt0071562/\" title=\"Francis Ford Coppola (dir.), Al Pacino, Robert De Niro\">The Godfather: Part II</a>,\n",
       " <a href=\"/title/tt0468569/\" title=\"Christopher Nolan (dir.), Christian Bale, Heath Ledger\">The Dark Knight</a>,\n",
       " <a href=\"/title/tt0050083/\" title=\"Sidney Lumet (dir.), Henry Fonda, Lee J. Cobb\">12 Angry Men</a>,\n",
       " <a href=\"/title/tt0108052/\" title=\"Steven Spielberg (dir.), Liam Neeson, Ralph Fiennes\">Schindler's List</a>,\n",
       " <a href=\"/title/tt0167260/\" title=\"Peter Jackson (dir.), Elijah Wood, Viggo Mortensen\">The Lord of the Rings: The Return of the King</a>,\n",
       " <a href=\"/title/tt0110912/\" title=\"Quentin Tarantino (dir.), John Travolta, Uma Thurman\">Pulp Fiction</a>,\n",
       " <a href=\"/title/tt0060196/\" title=\"Sergio Leone (dir.), Clint Eastwood, Eli Wallach\">The Good, the Bad and the Ugly</a>,\n",
       " <a href=\"/title/tt7286456/\" title=\"Todd Phillips (dir.), Joaquin Phoenix, Robert De Niro\">Joker</a>,\n",
       " <a href=\"/title/tt0137523/\" title=\"David Fincher (dir.), Brad Pitt, Edward Norton\">Fight Club</a>,\n",
       " <a href=\"/title/tt0120737/\" title=\"Peter Jackson (dir.), Elijah Wood, Ian McKellen\">The Lord of the Rings: The Fellowship of the Ring</a>,\n",
       " <a href=\"/title/tt0109830/\" title=\"Robert Zemeckis (dir.), Tom Hanks, Robin Wright\">Forrest Gump</a>,\n",
       " <a href=\"/title/tt1375666/\" title=\"Christopher Nolan (dir.), Leonardo DiCaprio, Joseph Gordon-Levitt\">Inception</a>,\n",
       " <a href=\"/title/tt0080684/\" title=\"Irvin Kershner (dir.), Mark Hamill, Harrison Ford\">Star Wars: Episode V - The Empire Strikes Back</a>,\n",
       " <a href=\"/title/tt0167261/\" title=\"Peter Jackson (dir.), Elijah Wood, Ian McKellen\">The Lord of the Rings: The Two Towers</a>,\n",
       " <a href=\"/title/tt0133093/\" title=\"Lana Wachowski (dir.), Keanu Reeves, Laurence Fishburne\">The Matrix</a>,\n",
       " <a href=\"/title/tt0073486/\" title=\"Milos Forman (dir.), Jack Nicholson, Louise Fletcher\">One Flew Over the Cuckoo's Nest</a>,\n",
       " <a href=\"/title/tt0099685/\" title=\"Martin Scorsese (dir.), Robert De Niro, Ray Liotta\">Goodfellas</a>,\n",
       " <a href=\"/title/tt0047478/\" title=\"Akira Kurosawa (dir.), Toshirô Mifune, Takashi Shimura\">Seven Samurai</a>,\n",
       " <a href=\"/title/tt0114369/\" title=\"David Fincher (dir.), Morgan Freeman, Brad Pitt\">Se7en</a>,\n",
       " <a href=\"/title/tt0317248/\" title=\"Fernando Meirelles (dir.), Alexandre Rodrigues, Leandro Firmino\">City of God</a>,\n",
       " <a href=\"/title/tt0118799/\" title=\"Roberto Benigni (dir.), Roberto Benigni, Nicoletta Braschi\">Life Is Beautiful</a>,\n",
       " <a href=\"/title/tt0102926/\" title=\"Jonathan Demme (dir.), Jodie Foster, Anthony Hopkins\">The Silence of the Lambs</a>,\n",
       " <a href=\"/title/tt0038650/\" title=\"Frank Capra (dir.), James Stewart, Donna Reed\">It's a Wonderful Life</a>,\n",
       " <a href=\"/title/tt0076759/\" title=\"George Lucas (dir.), Mark Hamill, Harrison Ford\">Star Wars: Episode IV - A New Hope</a>,\n",
       " <a href=\"/title/tt0120815/\" title=\"Steven Spielberg (dir.), Tom Hanks, Matt Damon\">Saving Private Ryan</a>,\n",
       " <a href=\"/title/tt0245429/\" title=\"Hayao Miyazaki (dir.), Daveigh Chase, Suzanne Pleshette\">Spirited Away</a>,\n",
       " <a href=\"/title/tt0120689/\" title=\"Frank Darabont (dir.), Tom Hanks, Michael Clarke Duncan\">The Green Mile</a>,\n",
       " <a href=\"/title/tt0110413/\" title=\"Luc Besson (dir.), Jean Reno, Gary Oldman\">Léon: The Professional</a>,\n",
       " <a href=\"/title/tt0816692/\" title=\"Christopher Nolan (dir.), Matthew McConaughey, Anne Hathaway\">Interstellar</a>,\n",
       " <a href=\"/title/tt0056058/\" title=\"Masaki Kobayashi (dir.), Tatsuya Nakadai, Akira Ishihama\">Harakiri</a>,\n",
       " <a href=\"/title/tt0114814/\" title=\"Bryan Singer (dir.), Kevin Spacey, Gabriel Byrne\">The Usual Suspects</a>,\n",
       " <a href=\"/title/tt0110357/\" title=\"Roger Allers (dir.), Matthew Broderick, Jeremy Irons\">The Lion King</a>,\n",
       " <a href=\"/title/tt0120586/\" title=\"Tony Kaye (dir.), Edward Norton, Edward Furlong\">American History X</a>,\n",
       " <a href=\"/title/tt0088763/\" title=\"Robert Zemeckis (dir.), Michael J. Fox, Christopher Lloyd\">Back to the Future</a>,\n",
       " <a href=\"/title/tt0027977/\" title=\"Charles Chaplin (dir.), Charles Chaplin, Paulette Goddard\">Modern Times</a>,\n",
       " <a href=\"/title/tt0253474/\" title=\"Roman Polanski (dir.), Adrien Brody, Thomas Kretschmann\">The Pianist</a>,\n",
       " <a href=\"/title/tt0103064/\" title=\"James Cameron (dir.), Arnold Schwarzenegger, Linda Hamilton\">Terminator 2: Judgment Day</a>,\n",
       " <a href=\"/title/tt1675434/\" title=\"Olivier Nakache (dir.), François Cluzet, Omar Sy\">The Intouchables</a>,\n",
       " <a href=\"/title/tt0054215/\" title=\"Alfred Hitchcock (dir.), Anthony Perkins, Janet Leigh\">Psycho</a>,\n",
       " <a href=\"/title/tt0172495/\" title=\"Ridley Scott (dir.), Russell Crowe, Joaquin Phoenix\">Gladiator</a>,\n",
       " <a href=\"/title/tt0021749/\" title=\"Charles Chaplin (dir.), Charles Chaplin, Virginia Cherrill\">City Lights</a>,\n",
       " <a href=\"/title/tt0407887/\" title=\"Martin Scorsese (dir.), Leonardo DiCaprio, Matt Damon\">The Departed</a>,\n",
       " <a href=\"/title/tt2582802/\" title=\"Damien Chazelle (dir.), Miles Teller, J.K. Simmons\">Whiplash</a>,\n",
       " <a href=\"/title/tt0064116/\" title=\"Sergio Leone (dir.), Henry Fonda, Charles Bronson\">Once Upon a Time in the West</a>,\n",
       " <a href=\"/title/tt0482571/\" title=\"Christopher Nolan (dir.), Christian Bale, Hugh Jackman\">The Prestige</a>,\n",
       " <a href=\"/title/tt4154796/\" title=\"Anthony Russo (dir.), Robert Downey Jr., Chris Evans\">Avengers: Endgame</a>,\n",
       " <a href=\"/title/tt0034583/\" title=\"Michael Curtiz (dir.), Humphrey Bogart, Ingrid Bergman\">Casablanca</a>,\n",
       " <a href=\"/title/tt0095327/\" title=\"Isao Takahata (dir.), Tsutomu Tatsumi, Ayano Shiraishi\">Grave of the Fireflies</a>,\n",
       " <a href=\"/title/tt0047396/\" title=\"Alfred Hitchcock (dir.), James Stewart, Grace Kelly\">Rear Window</a>,\n",
       " <a href=\"/title/tt0095765/\" title=\"Giuseppe Tornatore (dir.), Philippe Noiret, Enzo Cannavale\">Cinema Paradiso</a>,\n",
       " <a href=\"/title/tt0078748/\" title=\"Ridley Scott (dir.), Sigourney Weaver, Tom Skerritt\">Alien</a>,\n",
       " <a href=\"/title/tt0082971/\" title=\"Steven Spielberg (dir.), Harrison Ford, Karen Allen\">Raiders of the Lost Ark</a>,\n",
       " <a href=\"/title/tt0209144/\" title=\"Christopher Nolan (dir.), Guy Pearce, Carrie-Anne Moss\">Memento</a>,\n",
       " <a href=\"/title/tt0078788/\" title=\"Francis Ford Coppola (dir.), Martin Sheen, Marlon Brando\">Apocalypse Now</a>,\n",
       " <a href=\"/title/tt0032553/\" title=\"Charles Chaplin (dir.), Charles Chaplin, Paulette Goddard\">The Great Dictator</a>,\n",
       " <a href=\"/title/tt0405094/\" title=\"Florian Henckel von Donnersmarck (dir.), Ulrich Mühe, Martina Gedeck\">The Lives of Others</a>,\n",
       " <a href=\"/title/tt4154756/\" title=\"Anthony Russo (dir.), Robert Downey Jr., Chris Hemsworth\">Avengers: Infinity War</a>,\n",
       " <a href=\"/title/tt1853728/\" title=\"Quentin Tarantino (dir.), Jamie Foxx, Christoph Waltz\">Django Unchained</a>,\n",
       " <a href=\"/title/tt4633694/\" title=\"Bob Persichetti (dir.), Shameik Moore, Jake Johnson\">Spider-Man: Into the Spider-Verse</a>,\n",
       " <a href=\"/title/tt0081505/\" title=\"Stanley Kubrick (dir.), Jack Nicholson, Shelley Duvall\">The Shining</a>,\n",
       " <a href=\"/title/tt0050825/\" title=\"Stanley Kubrick (dir.), Kirk Douglas, Ralph Meeker\">Paths of Glory</a>,\n",
       " <a href=\"/title/tt0910970/\" title=\"Andrew Stanton (dir.), Ben Burtt, Elissa Knight\">WALL·E</a>,\n",
       " <a href=\"/title/tt0043014/\" title=\"Billy Wilder (dir.), William Holden, Gloria Swanson\">Sunset Blvd.</a>,\n",
       " <a href=\"/title/tt0057012/\" title=\"Stanley Kubrick (dir.), Peter Sellers, George C. Scott\">Dr. Strangelove or: How I Learned to Stop Worrying and Love the Bomb</a>,\n",
       " <a href=\"/title/tt0119698/\" title=\"Hayao Miyazaki (dir.), Yôji Matsuda, Yuriko Ishida\">Princess Mononoke</a>,\n",
       " <a href=\"/title/tt0364569/\" title=\"Chan-wook Park (dir.), Min-sik Choi, Ji-tae Yu\">Oldeuboi</a>,\n",
       " <a href=\"/title/tt0051201/\" title=\"Billy Wilder (dir.), Tyrone Power, Marlene Dietrich\">Witness for the Prosecution</a>,\n",
       " <a href=\"/title/tt1345836/\" title=\"Christopher Nolan (dir.), Christian Bale, Tom Hardy\">The Dark Knight Rises</a>,\n",
       " <a href=\"/title/tt0087843/\" title=\"Sergio Leone (dir.), Robert De Niro, James Woods\">Once Upon a Time in America</a>,\n",
       " <a href=\"/title/tt0090605/\" title=\"James Cameron (dir.), Sigourney Weaver, Michael Biehn\">Aliens</a>,\n",
       " <a href=\"/title/tt6751668/\" title=\"Joon-ho Bong (dir.), Kang-ho Song, Yeo-jeong Jo\">Parasite</a>,\n",
       " <a href=\"/title/tt0169547/\" title=\"Sam Mendes (dir.), Kevin Spacey, Annette Bening\">American Beauty</a>,\n",
       " <a href=\"/title/tt2380307/\" title=\"Lee Unkrich (dir.), Anthony Gonzalez, Gael García Bernal\">Coco</a>,\n",
       " <a href=\"/title/tt5311514/\" title=\"Makoto Shinkai (dir.), Ryûnosuke Kamiki, Mone Kamishiraishi\">Your Name.</a>,\n",
       " <a href=\"/title/tt0112573/\" title=\"Mel Gibson (dir.), Mel Gibson, Sophie Marceau\">Braveheart</a>,\n",
       " <a href=\"/title/tt0082096/\" title=\"Wolfgang Petersen (dir.), Jürgen Prochnow, Herbert Grönemeyer\">Das Boot</a>,\n",
       " <a href=\"/title/tt1187043/\" title=\"Rajkumar Hirani (dir.), Aamir Khan, Madhavan\">3 Idiots</a>,\n",
       " <a href=\"/title/tt0986264/\" title=\"Aamir Khan (dir.), Darsheel Safary, Aamir Khan\">Taare Zameen Par</a>,\n",
       " <a href=\"/title/tt0086190/\" title=\"Richard Marquand (dir.), Mark Hamill, Harrison Ford\">Star Wars: Episode VI - Return of the Jedi</a>,\n",
       " <a href=\"/title/tt0114709/\" title=\"John Lasseter (dir.), Tom Hanks, Tim Allen\">Toy Story</a>,\n",
       " <a href=\"/title/tt0105236/\" title=\"Quentin Tarantino (dir.), Harvey Keitel, Tim Roth\">Reservoir Dogs</a>,\n",
       " <a href=\"/title/tt0086879/\" title=\"Milos Forman (dir.), F. Murray Abraham, Tom Hulce\">Amadeus</a>,\n",
       " <a href=\"/title/tt5074352/\" title=\"Nitesh Tiwari (dir.), Aamir Khan, Sakshi Tanwar\">Dangal</a>,\n",
       " <a href=\"/title/tt0022100/\" title=\"Fritz Lang (dir.), Peter Lorre, Ellen Widmann\">M</a>,\n",
       " <a href=\"/title/tt0119217/\" title=\"Gus Van Sant (dir.), Robin Williams, Matt Damon\">Good Will Hunting</a>,\n",
       " <a href=\"/title/tt0361748/\" title=\"Quentin Tarantino (dir.), Brad Pitt, Diane Kruger\">Inglourious Basterds</a>,\n",
       " <a href=\"/title/tt0180093/\" title=\"Darren Aronofsky (dir.), Ellen Burstyn, Jared Leto\">Requiem for a Dream</a>,\n",
       " <a href=\"/title/tt0062622/\" title=\"Stanley Kubrick (dir.), Keir Dullea, Gary Lockwood\">2001: A Space Odyssey</a>,\n",
       " <a href=\"/title/tt0052357/\" title=\"Alfred Hitchcock (dir.), James Stewart, Kim Novak\">Vertigo</a>,\n",
       " <a href=\"/title/tt0338013/\" title=\"Michel Gondry (dir.), Jim Carrey, Kate Winslet\">Eternal Sunshine of the Spotless Mind</a>,\n",
       " <a href=\"/title/tt0033467/\" title=\"Orson Welles (dir.), Orson Welles, Joseph Cotten\">Citizen Kane</a>,\n",
       " <a href=\"/title/tt0093058/\" title=\"Stanley Kubrick (dir.), Matthew Modine, R. Lee Ermey\">Full Metal Jacket</a>,\n",
       " <a href=\"/title/tt2106476/\" title=\"Thomas Vinterberg (dir.), Mads Mikkelsen, Thomas Bo Larsen\">The Hunt</a>,\n",
       " <a href=\"/title/tt0053125/\" title=\"Alfred Hitchcock (dir.), Cary Grant, Eva Marie Saint\">North by Northwest</a>,\n",
       " <a href=\"/title/tt0066921/\" title=\"Stanley Kubrick (dir.), Malcolm McDowell, Patrick Magee\">A Clockwork Orange</a>,\n",
       " <a href=\"/title/tt0208092/\" title=\"Guy Ritchie (dir.), Jason Statham, Brad Pitt\">Snatch</a>,\n",
       " <a href=\"/title/tt0211915/\" title=\"Jean-Pierre Jeunet (dir.), Audrey Tautou, Mathieu Kassovitz\">Amélie</a>,\n",
       " <a href=\"/title/tt0012349/\" title=\"Charles Chaplin (dir.), Charles Chaplin, Edna Purviance\">The Kid</a>,\n",
       " <a href=\"/title/tt0040522/\" title=\"Vittorio De Sica (dir.), Lamberto Maggiorani, Enzo Staiola\">Bicycle Thieves</a>,\n",
       " <a href=\"/title/tt0086250/\" title=\"Brian De Palma (dir.), Al Pacino, Michelle Pfeiffer\">Scarface</a>,\n",
       " <a href=\"/title/tt0045152/\" title=\"Stanley Donen (dir.), Gene Kelly, Donald O'Connor\">Singin' in the Rain</a>,\n",
       " <a href=\"/title/tt0056172/\" title=\"David Lean (dir.), Peter O'Toole, Alec Guinness\">Lawrence of Arabia</a>,\n",
       " <a href=\"/title/tt0435761/\" title=\"Lee Unkrich (dir.), Tom Hanks, Tim Allen\">Toy Story 3</a>,\n",
       " <a href=\"/title/tt0075314/\" title=\"Martin Scorsese (dir.), Robert De Niro, Jodie Foster\">Taxi Driver</a>,\n",
       " <a href=\"/title/tt0070735/\" title=\"George Roy Hill (dir.), Paul Newman, Robert Redford\">The Sting</a>,\n",
       " <a href=\"/title/tt0017136/\" title=\"Fritz Lang (dir.), Brigitte Helm, Alfred Abel\">Metropolis</a>,\n",
       " <a href=\"/title/tt0059578/\" title=\"Sergio Leone (dir.), Clint Eastwood, Lee Van Cleef\">For a Few Dollars More</a>,\n",
       " <a href=\"/title/tt0036775/\" title=\"Billy Wilder (dir.), Fred MacMurray, Barbara Stanwyck\">Double Indemnity</a>,\n",
       " <a href=\"/title/tt0044741/\" title=\"Akira Kurosawa (dir.), Takashi Shimura, Nobuo Kaneko\">Ikiru</a>,\n",
       " <a href=\"/title/tt1832382/\" title=\"Asghar Farhadi (dir.), Payman Maadi, Leila Hatami\">A Separation</a>,\n",
       " <a href=\"/title/tt0056592/\" title=\"Robert Mulligan (dir.), Gregory Peck, John Megna\">To Kill a Mockingbird</a>,\n",
       " <a href=\"/title/tt0097576/\" title=\"Steven Spielberg (dir.), Harrison Ford, Sean Connery\">Indiana Jones and the Last Crusade</a>,\n",
       " <a href=\"/title/tt0053604/\" title=\"Billy Wilder (dir.), Jack Lemmon, Shirley MacLaine\">The Apartment</a>,\n",
       " <a href=\"/title/tt8267604/\" title=\"Nadine Labaki (dir.), Zain Al Rafeea, Yordanos Shiferaw\">Capharnaüm</a>,\n",
       " <a href=\"/title/tt1049413/\" title=\"Pete Docter (dir.), Edward Asner, Jordan Nagai\">Up</a>,\n",
       " <a href=\"/title/tt0119488/\" title=\"Curtis Hanson (dir.), Kevin Spacey, Russell Crowe\">L.A. Confidential</a>,\n",
       " <a href=\"/title/tt0071853/\" title=\"Terry Gilliam (dir.), Graham Chapman, John Cleese\">Monty Python and the Holy Grail</a>,\n",
       " <a href=\"/title/tt1255953/\" title=\"Denis Villeneuve (dir.), Lubna Azabal, Mélissa Désormeaux-Poulin\">Incendies</a>,\n",
       " <a href=\"/title/tt0113277/\" title=\"Michael Mann (dir.), Al Pacino, Robert De Niro\">Heat</a>,\n",
       " <a href=\"/title/tt0042876/\" title=\"Akira Kurosawa (dir.), Toshirô Mifune, Machiko Kyô\">Rashômon</a>,\n",
       " <a href=\"/title/tt0055630/\" title=\"Akira Kurosawa (dir.), Toshirô Mifune, Eijirô Tôno\">Yojimbo</a>,\n",
       " <a href=\"/title/tt0372784/\" title=\"Christopher Nolan (dir.), Christian Bale, Michael Caine\">Batman Begins</a>,\n",
       " <a href=\"/title/tt0095016/\" title=\"John McTiernan (dir.), Bruce Willis, Alan Rickman\">Die Hard</a>,\n",
       " <a href=\"/title/tt0105695/\" title=\"Clint Eastwood (dir.), Clint Eastwood, Gene Hackman\">Unforgiven</a>,\n",
       " <a href=\"/title/tt6966692/\" title=\"Peter Farrelly (dir.), Viggo Mortensen, Mahershala Ali\">Green Book</a>,\n",
       " <a href=\"/title/tt0363163/\" title=\"Oliver Hirschbiegel (dir.), Bruno Ganz, Alexandra Maria Lara\">Downfall</a>,\n",
       " <a href=\"/title/tt0118849/\" title=\"Majid Majidi (dir.), Mohammad Amir Naji, Amir Farrokh Hashemian\">Children of Heaven</a>,\n",
       " <a href=\"/title/tt3417422/\" title=\"Jeethu Joseph (dir.), Mohanlal, Kalabhavan Rahman\">Drishyam</a>,\n",
       " <a href=\"/title/tt0053291/\" title=\"Billy Wilder (dir.), Marilyn Monroe, Tony Curtis\">Some Like It Hot</a>,\n",
       " <a href=\"/title/tt0347149/\" title=\"Hayao Miyazaki (dir.), Chieko Baishô, Takuya Kimura\">Howl's Moving Castle</a>,\n",
       " <a href=\"/title/tt0057115/\" title=\"John Sturges (dir.), Steve McQueen, James Garner\">The Great Escape</a>,\n",
       " <a href=\"/title/tt0096283/\" title=\"Hayao Miyazaki (dir.), Hitoshi Takagi, Noriko Hidaka\">My Neighbor Totoro</a>,\n",
       " <a href=\"/title/tt0089881/\" title=\"Akira Kurosawa (dir.), Tatsuya Nakadai, Akira Terao\">Ran</a>,\n",
       " <a href=\"/title/tt0042192/\" title=\"Joseph L. Mankiewicz (dir.), Bette Davis, Anne Baxter\">All About Eve</a>,\n",
       " <a href=\"/title/tt0268978/\" title=\"Ron Howard (dir.), Russell Crowe, Ed Harris\">A Beautiful Mind</a>,\n",
       " <a href=\"/title/tt0457430/\" title=\"Guillermo del Toro (dir.), Ivana Baquero, Ariadna Gil\">Pan's Labyrinth</a>,\n",
       " <a href=\"/title/tt0091251/\" title=\"Elem Klimov (dir.), Aleksey Kravchenko, Olga Mironova\">Come and See</a>,\n",
       " <a href=\"/title/tt0112641/\" title=\"Martin Scorsese (dir.), Robert De Niro, Sharon Stone\">Casino</a>,\n",
       " <a href=\"/title/tt1305806/\" title=\"Juan José Campanella (dir.), Ricardo Darín, Soledad Villamil\">The Secret in Their Eyes</a>,\n",
       " <a href=\"/title/tt0081398/\" title=\"Martin Scorsese (dir.), Robert De Niro, Cathy Moriarty\">Raging Bull</a>,\n",
       " <a href=\"/title/tt0120735/\" title=\"Guy Ritchie (dir.), Jason Flemyng, Dexter Fletcher\">Lock, Stock and Two Smoking Barrels</a>,\n",
       " <a href=\"/title/tt0476735/\" title=\"Çagan Irmak (dir.), Çetin Tekindor, Fikret Kuskan\">Babam ve Oglum</a>,\n",
       " <a href=\"/title/tt0040897/\" title=\"John Huston (dir.), Humphrey Bogart, Walter Huston\">The Treasure of the Sierra Madre</a>,\n",
       " <a href=\"/title/tt0993846/\" title=\"Martin Scorsese (dir.), Leonardo DiCaprio, Jonah Hill\">The Wolf of Wall Street</a>,\n",
       " <a href=\"/title/tt0055031/\" title=\"Stanley Kramer (dir.), Spencer Tracy, Burt Lancaster\">Judgment at Nuremberg</a>,\n",
       " <a href=\"/title/tt5027774/\" title=\"Martin McDonagh (dir.), Frances McDormand, Woody Harrelson\">Three Billboards Outside Ebbing, Missouri</a>,\n",
       " <a href=\"/title/tt0071315/\" title=\"Roman Polanski (dir.), Jack Nicholson, Faye Dunaway\">Chinatown</a>,\n",
       " <a href=\"/title/tt0015864/\" title=\"Charles Chaplin (dir.), Charles Chaplin, Mack Swain\">The Gold Rush</a>,\n",
       " <a href=\"/title/tt0046912/\" title=\"Alfred Hitchcock (dir.), Ray Milland, Grace Kelly\">Dial M for Murder</a>,\n",
       " <a href=\"/title/tt2096673/\" title=\"Pete Docter (dir.), Amy Poehler, Bill Hader\">Inside Out</a>,\n",
       " <a href=\"/title/tt0434409/\" title=\"James McTeigue (dir.), Hugo Weaving, Natalie Portman\">V for Vendetta</a>,\n",
       " <a href=\"/title/tt0469494/\" title=\"Paul Thomas Anderson (dir.), Daniel Day-Lewis, Paul Dano\">There Will Be Blood</a>,\n",
       " <a href=\"/title/tt1291584/\" title=\"Gavin O'Connor (dir.), Tom Hardy, Nick Nolte\">Warrior</a>,\n",
       " <a href=\"/title/tt0050976/\" title=\"Ingmar Bergman (dir.), Max von Sydow, Gunnar Björnstrand\">The Seventh Seal</a>,\n",
       " <a href=\"/title/tt3170832/\" title=\"Lenny Abrahamson (dir.), Brie Larson, Jacob Tremblay\">Room</a>,\n",
       " <a href=\"/title/tt0117951/\" title=\"Danny Boyle (dir.), Ewan McGregor, Ewen Bremner\">Trainspotting</a>,\n",
       " <a href=\"/title/tt0477348/\" title=\"Ethan Coen (dir.), Tommy Lee Jones, Javier Bardem\">No Country for Old Men</a>,\n",
       " <a href=\"/title/tt0080678/\" title=\"David Lynch (dir.), Anthony Hopkins, John Hurt\">The Elephant Man</a>,\n",
       " <a href=\"/title/tt8108198/\" title=\"Sriram Raghavan (dir.), Ayushmann Khurrana, Tabu\">Andhadhun</a>,\n",
       " <a href=\"/title/tt0167404/\" title=\"M. Night Shyamalan (dir.), Bruce Willis, Haley Joel Osment\">The Sixth Sense</a>,\n",
       " <a href=\"/title/tt1130884/\" title=\"Martin Scorsese (dir.), Leonardo DiCaprio, Emily Mortimer\">Shutter Island</a>,\n",
       " <a href=\"/title/tt0084787/\" title=\"John Carpenter (dir.), Kurt Russell, Wilford Brimley\">The Thing</a>,\n",
       " <a href=\"/title/tt0050212/\" title=\"David Lean (dir.), William Holden, Alec Guinness\">The Bridge on the River Kwai</a>,\n",
       " <a href=\"/title/tt0031381/\" title=\"Victor Fleming (dir.), Clark Gable, Vivien Leigh\">Gone with the Wind</a>,\n",
       " <a href=\"/title/tt0041959/\" title=\"Carol Reed (dir.), Orson Welles, Joseph Cotten\">The Third Man</a>,\n",
       " <a href=\"/title/tt0083658/\" title=\"Ridley Scott (dir.), Harrison Ford, Rutger Hauer\">Blade Runner</a>,\n",
       " <a href=\"/title/tt0047296/\" title=\"Elia Kazan (dir.), Marlon Brando, Karl Malden\">On the Waterfront</a>,\n",
       " <a href=\"/title/tt0116231/\" title=\"Yavuz Turgul (dir.), Sener Sen, Ugur Yücel\">The Bandit</a>,\n",
       " <a href=\"/title/tt0050986/\" title=\"Ingmar Bergman (dir.), Victor Sjöström, Bibi Andersson\">Wild Strawberries</a>,\n",
       " <a href=\"/title/tt0107290/\" title=\"Steven Spielberg (dir.), Sam Neill, Laura Dern\">Jurassic Park</a>,\n",
       " <a href=\"/title/tt0266543/\" title=\"Andrew Stanton (dir.), Albert Brooks, Ellen DeGeneres\">Finding Nemo</a>,\n",
       " <a href=\"/title/tt1205489/\" title=\"Clint Eastwood (dir.), Clint Eastwood, Bee Vang\">Gran Torino</a>,\n",
       " <a href=\"/title/tt0116282/\" title=\"Joel Coen (dir.), William H. Macy, Frances McDormand\">Fargo</a>,\n",
       " <a href=\"/title/tt0266697/\" title=\"Quentin Tarantino (dir.), Uma Thurman, David Carradine\">Kill Bill: Vol. 1</a>,\n",
       " <a href=\"/title/tt0077416/\" title=\"Michael Cimino (dir.), Robert De Niro, Christopher Walken\">The Deer Hunter</a>,\n",
       " <a href=\"/title/tt0046438/\" title=\"Yasujirô Ozu (dir.), Chishû Ryû, Chieko Higashiyama\">Tokyo Story</a>,\n",
       " <a href=\"/title/tt0079944/\" title=\"Andrei Tarkovsky (dir.), Alisa Freyndlikh, Aleksandr Kaydanovskiy\">Stalker</a>,\n",
       " <a href=\"/title/tt0118715/\" title=\"Joel Coen (dir.), Jeff Bridges, John Goodman\">The Big Lebowski</a>,\n",
       " <a href=\"/title/tt0120382/\" title=\"Peter Weir (dir.), Jim Carrey, Ed Harris\">The Truman Show</a>,\n",
       " <a href=\"/title/tt3011894/\" title=\"Damián Szifron (dir.), Darío Grandinetti, María Marull\">Relatos salvajes</a>,\n",
       " <a href=\"/title/tt0978762/\" title=\"Adam Elliot (dir.), Toni Collette, Philip Seymour Hoffman\">Mary and Max</a>,\n",
       " <a href=\"/title/tt2119532/\" title=\"Mel Gibson (dir.), Andrew Garfield, Sam Worthington\">Hacksaw Ridge</a>,\n",
       " <a href=\"/title/tt2267998/\" title=\"David Fincher (dir.), Ben Affleck, Rosamund Pike\">Gone Girl</a>,\n",
       " <a href=\"/title/tt0107207/\" title=\"Jim Sheridan (dir.), Daniel Day-Lewis, Pete Postlethwaite\">In the Name of the Father</a>,\n",
       " <a href=\"/title/tt0015324/\" title=\"Buster Keaton (dir.), Buster Keaton, Kathryn McGuire\">Sherlock Jr.</a>,\n",
       " <a href=\"/title/tt0017925/\" title=\"Clyde Bruckman (dir.), Buster Keaton, Marion Mack\">The General</a>,\n",
       " <a href=\"/title/tt0892769/\" title=\"Dean DeBlois (dir.), Jay Baruchel, Gerard Butler\">How to Train Your Dragon</a>,\n",
       " <a href=\"/title/tt0031679/\" title=\"Frank Capra (dir.), James Stewart, Jean Arthur\">Mr. Smith Goes to Washington</a>,\n",
       " <a href=\"/title/tt2278388/\" title=\"Wes Anderson (dir.), Ralph Fiennes, F. Murray Abraham\">The Grand Budapest Hotel</a>,\n",
       " <a href=\"/title/tt0353969/\" title=\"Joon-ho Bong (dir.), Kang-ho Song, Sang-kyung Kim\">Memories of Murder</a>,\n",
       " <a href=\"/title/tt0060827/\" title=\"Ingmar Bergman (dir.), Bibi Andersson, Liv Ullmann\">Persona</a>,\n",
       " <a href=\"/title/tt0112471/\" title=\"Richard Linklater (dir.), Ethan Hawke, Julie Delpy\">Before Sunrise</a>,\n",
       " <a href=\"/title/tt0040725/\" title=\"Michael Powell (dir.), Anton Walbrook, Marius Goring\">The Red Shoes</a>,\n",
       " <a href=\"/title/tt0264464/\" title=\"Steven Spielberg (dir.), Leonardo DiCaprio, Tom Hanks\">Catch Me If You Can</a>,\n",
       " <a href=\"/title/tt0758758/\" title=\"Sean Penn (dir.), Emile Hirsch, Vince Vaughn\">Into the Wild</a>,\n",
       " <a href=\"/title/tt0046268/\" title=\"Henri-Georges Clouzot (dir.), Yves Montand, Charles Vanel\">The Wages of Fear</a>,\n",
       " <a href=\"/title/tt0061512/\" title=\"Stuart Rosenberg (dir.), Paul Newman, George Kennedy\">Cool Hand Luke</a>,\n",
       " <a href=\"/title/tt2024544/\" title=\"Steve McQueen (dir.), Chiwetel Ejiofor, Michael Kenneth Williams\">12 Years a Slave</a>,\n",
       " <a href=\"/title/tt0074958/\" title=\"Sidney Lumet (dir.), Faye Dunaway, William Holden\">Network</a>,\n",
       " <a href=\"/title/tt1392214/\" title=\"Denis Villeneuve (dir.), Hugh Jackman, Jake Gyllenhaal\">Prisoners</a>,\n",
       " <a href=\"/title/tt0079470/\" title=\"Terry Jones (dir.), Graham Chapman, John Cleese\">Monty Python's Life of Brian</a>,\n",
       " <a href=\"/title/tt0092005/\" title=\"Rob Reiner (dir.), Wil Wheaton, River Phoenix\">Stand by Me</a>,\n",
       " <a href=\"/title/tt0019254/\" title=\"Carl Theodor Dreyer (dir.), Maria Falconetti, Eugene Silvain\">The Passion of Joan of Arc</a>,\n",
       " <a href=\"/title/tt0405508/\" title=\"Rakeysh Omprakash Mehra (dir.), Aamir Khan, Soha Ali Khan\">Rang De Basanti</a>,\n",
       " <a href=\"/title/tt1392190/\" title=\"George Miller (dir.), Tom Hardy, Charlize Theron\">Mad Max: Fury Road</a>,\n",
       " <a href=\"/title/tt0060107/\" title=\"Andrei Tarkovsky (dir.), Anatoliy Solonitsyn, Ivan Lapikov\">Andrei Rublev</a>,\n",
       " <a href=\"/title/tt0091763/\" title=\"Oliver Stone (dir.), Charlie Sheen, Tom Berenger\">Platoon</a>,\n",
       " <a href=\"/title/tt1979320/\" title=\"Ron Howard (dir.), Daniel Brühl, Chris Hemsworth\">Rush</a>,\n",
       " <a href=\"/title/tt0405159/\" title=\"Clint Eastwood (dir.), Hilary Swank, Clint Eastwood\">Million Dollar Baby</a>,\n",
       " <a href=\"/title/tt1028532/\" title=\"Lasse Hallström (dir.), Richard Gere, Joan Allen\">Hachi: A Dog's Tale</a>,\n",
       " <a href=\"/title/tt3315342/\" title=\"James Mangold (dir.), Hugh Jackman, Patrick Stewart\">Logan</a>,\n",
       " <a href=\"/title/tt0042041/\" title=\"Raoul Walsh (dir.), James Cagney, Virginia Mayo\">White Heat</a>,\n",
       " <a href=\"/title/tt0072684/\" title=\"Stanley Kubrick (dir.), Ryan O'Neal, Marisa Berenson\">Barry Lyndon</a>,\n",
       " <a href=\"/title/tt0052618/\" title=\"William Wyler (dir.), Charlton Heston, Jack Hawkins\">Ben-Hur</a>,\n",
       " <a href=\"/title/tt0395169/\" title=\"Terry George (dir.), Don Cheadle, Sophie Okonedo\">Hotel Rwanda</a>,\n",
       " <a href=\"/title/tt0087544/\" title=\"Hayao Miyazaki (dir.), Sumi Shimamoto, Mahito Tsujimura\">Nausicaä of the Valley of the Wind</a>,\n",
       " <a href=\"/title/tt0245712/\" title=\"Alejandro G. Iñárritu (dir.), Emilio Echevarría, Gael García Bernal\">Amores Perros</a>,\n",
       " <a href=\"/title/tt0043338/\" title=\"Billy Wilder (dir.), Kirk Douglas, Jan Sterling\">Ace in the Hole</a>,\n",
       " <a href=\"/title/tt1201607/\" title=\"David Yates (dir.), Daniel Radcliffe, Emma Watson\">Harry Potter and the Deathly Hallows: Part 2</a>,\n",
       " <a href=\"/title/tt1895587/\" title=\"Tom McCarthy (dir.), Mark Ruffalo, Michael Keaton\">Spotlight</a>,\n",
       " <a href=\"/title/tt0053198/\" title=\"François Truffaut (dir.), Jean-Pierre Léaud, Albert Rémy\">The 400 Blows</a>,\n",
       " <a href=\"/title/tt0097165/\" title=\"Peter Weir (dir.), Robin Williams, Robert Sean Leonard\">Dead Poets Society</a>,\n",
       " <a href=\"/title/tt0032976/\" title=\"Alfred Hitchcock (dir.), Laurence Olivier, Joan Fontaine\">Rebecca</a>,\n",
       " <a href=\"/title/tt0075148/\" title=\"John G. Avildsen (dir.), Sylvester Stallone, Talia Shire\">Rocky</a>,\n",
       " <a href=\"/title/tt0198781/\" title=\"Pete Docter (dir.), Billy Crystal, John Goodman\">Monsters, Inc.</a>,\n",
       " <a href=\"/title/tt0025316/\" title=\"Frank Capra (dir.), Clark Gable, Claudette Colbert\">It Happened One Night</a>,\n",
       " <a href=\"/title/tt1954470/\" title=\"Anurag Kashyap (dir.), Manoj Bajpayee, Richa Chadha\">Gangs of Wasseypur</a>,\n",
       " <a href=\"/title/tt0113247/\" title=\"Mathieu Kassovitz (dir.), Vincent Cassel, Hubert Koundé\">La Haine</a>,\n",
       " <a href=\"/title/tt4016934/\" title=\"Chan-wook Park (dir.), Min-hee Kim, Jung-woo Ha\">The Handmaiden</a>,\n",
       " <a href=\"/title/tt0169102/\" title=\"Ashutosh Gowariker (dir.), Aamir Khan, Raghuvir Yadav\">Lagaan: Once Upon a Time in India</a>,\n",
       " <a href=\"/title/tt0093779/\" title=\"Rob Reiner (dir.), Cary Elwes, Mandy Patinkin\">The Princess Bride</a>,\n",
       " <a href=\"/title/tt0374887/\" title=\"Rajkumar Hirani (dir.), Sanjay Dutt, Arshad Warsi\">Munna Bhai M.B.B.S.</a>,\n",
       " <a href=\"/title/tt2338151/\" title=\"Rajkumar Hirani (dir.), Aamir Khan, Anushka Sharma\">PK</a>,\n",
       " <a href=\"/title/tt0064115/\" title=\"George Roy Hill (dir.), Paul Newman, Robert Redford\">Butch Cassidy and the Sundance Kid</a>,\n",
       " <a href=\"/title/tt1454029/\" title=\"Tate Taylor (dir.), Emma Stone, Viola Davis\">The Help</a>,\n",
       " <a href=\"/title/tt0381681/\" title=\"Richard Linklater (dir.), Ethan Hawke, Julie Delpy\">Before Sunset</a>,\n",
       " <a href=\"/title/tt0056732/\" title=\"Luis Buñuel (dir.), Silvia Pinal, Jacqueline Andere\">The Exterminating Angel</a>,\n",
       " <a href=\"/title/tt0367110/\" title=\"Ashutosh Gowariker (dir.), Shah Rukh Khan, Gayatri Joshi\">Swades</a>,\n",
       " <a href=\"/title/tt0094625/\" title=\"Katsuhiro Ôtomo (dir.), Mitsuo Iwata, Nozomu Sasaki\">Akira</a>,\n",
       " <a href=\"/title/tt0088247/\" title=\"James Cameron (dir.), Arnold Schwarzenegger, Linda Hamilton\">The Terminator</a>,\n",
       " <a href=\"/title/tt0118694/\" title=\"Kar-Wai Wong (dir.), Tony Chiu-Wai Leung, Maggie Cheung\">In the Mood for Love</a>,\n",
       " <a href=\"/title/tt0087884/\" title=\"Wim Wenders (dir.), Harry Dean Stanton, Nastassja Kinski\">Paris, Texas</a>,\n",
       " <a href=\"/title/tt4430212/\" title=\"Nishikant Kamat (dir.), Ajay Devgn, Shriya Saran\">Drishyam</a>,\n",
       " <a href=\"/title/tt2015381/\" title=\"James Gunn (dir.), Chris Pratt, Vin Diesel\">Guardians of the Galaxy</a>,\n",
       " <a href=\"/title/tt0338564/\" title=\"Andrew Lau (dir.), Andy Lau, Tony Chiu-Wai Leung\">Infernal Affairs</a>,\n",
       " <a href=\"/title/tt0103639/\" title=\"Ron Clements (dir.), Scott Weinger, Robin Williams\">Aladdin</a>,\n",
       " <a href=\"/title/tt0058946/\" title=\"Gillo Pontecorvo (dir.), Brahim Hadjadj, Jean Martin\">The Battle of Algiers</a>,\n",
       " <a href=\"/title/tt0069293/\" title=\"Andrei Tarkovsky (dir.), Natalya Bondarchuk, Donatas Banionis\">Solaris</a>]"
      ]
     },
     "execution_count": 33,
     "metadata": {},
     "output_type": "execute_result"
    }
   ],
   "source": [
    "from bs4 import BeautifulSoup as bs\n",
    "import requests\n",
    "url = 'http://www.imdb.com/chart/top'\n",
    "\n",
    "r = requests.get(url)\n",
    "soup = bs(r.content, \"html.parser\")\n",
    "tds = soup.findAll('td', {'class': 'titleColumn'})\n",
    "\n",
    "movies = []\n",
    "for td in tds:\n",
    "    movies.append(td.findChildren('a')[0])\n",
    "\n",
    "movies\n",
    "# print(\"Movie Name: {}\".format(movies[0].text))\n",
    "# print(\"Movies Length: {}\".format(len(movies)))"
   ]
  },
  {
   "cell_type": "markdown",
   "metadata": {
    "slideshow": {
     "slide_type": "slide"
    }
   },
   "source": [
    "We can show these movies. But before that, we can't remember these numbers for the shapes (like 9 is for circle). Let's pre-define those in line with how Office uses them and import them."
   ]
  },
  {
   "cell_type": "code",
   "execution_count": 34,
   "metadata": {
    "slideshow": {
     "slide_type": "fragment"
    }
   },
   "outputs": [],
   "source": [
    "from MSO import *"
   ]
  },
  {
   "cell_type": "markdown",
   "metadata": {
    "slideshow": {
     "slide_type": "slide"
    }
   },
   "source": [
    "Let's draw each movie poster as a little box on a 25x10 grid. We don't have the images yet, but first, let's just draw the rectangles."
   ]
  },
  {
   "cell_type": "code",
   "execution_count": 36,
   "metadata": {
    "slideshow": {
     "slide_type": "fragment"
    }
   },
   "outputs": [],
   "source": [
    "import win32com.client\n",
    "\n",
    "# Open PowerPoint\n",
    "Application = win32com.client.Dispatch(\"PowerPoint.Application\")\n",
    "\n",
    "# Add a presentation\n",
    "Presentation = Application.Presentations.Add()\n",
    "\n",
    "Presentation.PageSetup.SlideSize = ppSlideSizeOnScreen\n",
    "\n",
    "Base = Presentation.Slides.Add(1, ppLayoutBlank)\n",
    "\n",
    "\n",
    "width, height = 28, 41\n",
    "for i, movie in enumerate(movies):\n",
    "    x = 10 + width * (i % 25)\n",
    "    y = 100 + height * (i // 25)\n",
    "    r = Base.Shapes.AddShape(\n",
    "            msoShapeRectangle,\n",
    "            x, y,\n",
    "            width, height)"
   ]
  },
  {
   "cell_type": "markdown",
   "metadata": {
    "slideshow": {
     "slide_type": "slide"
    }
   },
   "source": [
    "It would be nice to get posters into those, so let's scrape the posters."
   ]
  },
  {
   "cell_type": "code",
   "execution_count": 37,
   "metadata": {
    "slideshow": {
     "slide_type": "fragment"
    }
   },
   "outputs": [],
   "source": [
    "import os\n",
    "from urllib.parse import urljoin\n",
    "from urllib.request import urlretrieve\n",
    "from hashlib import md5\n",
    "\n",
    "if not os.path.exists('img'):\n",
    "    os.makedirs('img')\n",
    "    \n",
    "def filename(movie):\n",
    "    '''Filename = MD5 hash of its title in UTF8'''\n",
    "    name = md5(movie.text.encode('utf8')).hexdigest()\n",
    "    return os.path.join('img', name + '.jpg')\n",
    "\n",
    "count = 0\n",
    "for movie in movies:\n",
    "    if os.path.exists(filename(movie)):\n",
    "        continue\n",
    "    count += 1\n",
    "        \n",
    "    url = urljoin('http://www.imdb.com/', movie['href'])\n",
    "    ru = requests.get(url)\n",
    "    usoup = bs(ru.content, \"html.parser\")\n",
    "    img = usoup.find('div', {'class': 'poster'}).findChildren('img')[0]\n",
    "    urlretrieve(img.get('src'), filename(movie))"
   ]
  },
  {
   "cell_type": "markdown",
   "metadata": {
    "slideshow": {
     "slide_type": "slide"
    }
   },
   "source": [
    "Now, instead of just rectangles, we'll use the posters."
   ]
  },
  {
   "cell_type": "code",
   "execution_count": 40,
   "metadata": {
    "slideshow": {
     "slide_type": "fragment"
    }
   },
   "outputs": [],
   "source": [
    "# Open PowerPoint\n",
    "Application = win32com.client.Dispatch(\"PowerPoint.Application\")\n",
    "\n",
    "# Add a presentation\n",
    "Presentation = Application.Presentations.Add()\n",
    "Presentation.PageSetup.SlideSize = ppSlideSizeOnScreen\n",
    "\n",
    "Base = Presentation.Slides.Add(1, ppLayoutBlank)\n",
    "\n",
    "width, height = 28, 41\n",
    "for i, movie in enumerate(movies):\n",
    "    x = 10 + width * (i % 25)\n",
    "    y = 100 + height * (i // 25)\n",
    "    image = Base.Shapes.AddPicture(\n",
    "        os.path.abspath(filename(movie)),\n",
    "        LinkToFile=True,\n",
    "        SaveWithDocument=False,\n",
    "        Left=x, Top=y,\n",
    "        Width=width, Height=height)"
   ]
  },
  {
   "cell_type": "markdown",
   "metadata": {
    "slideshow": {
     "slide_type": "slide"
    }
   },
   "source": [
    "Wouldn't it be nice to have these hyperlinked to the movies?"
   ]
  },
  {
   "cell_type": "code",
   "execution_count": 43,
   "metadata": {
    "slideshow": {
     "slide_type": "fragment"
    }
   },
   "outputs": [],
   "source": [
    "# Open PowerPoint\n",
    "Application = win32com.client.Dispatch(\"PowerPoint.Application\")\n",
    "\n",
    "# Add a presentation\n",
    "Presentation = Application.Presentations.Add()\n",
    "Presentation.PageSetup.SlideSize = ppSlideSizeOnScreen\n",
    "\n",
    "Base = Presentation.Slides.Add(1, ppLayoutBlank)\n",
    "\n",
    "width, height = 28, 41\n",
    "for i, movie in enumerate(movies):\n",
    "    x = 10 + width * (i % 25)\n",
    "    y = 100 + height * (i // 25)\n",
    "    image = Base.Shapes.AddPicture(\n",
    "        os.path.abspath(filename(movie)),\n",
    "        LinkToFile=True,\n",
    "        SaveWithDocument=False,\n",
    "        Left=x, Top=y,\n",
    "        Width=width, Height=height)\n",
    "    url = urljoin('http://www.imdb.com/', movie.get('href'))\n",
    "    link = image.ActionSettings(ppMouseClick).Hyperlink\n",
    "    link.Address = url\n",
    "    link.ScreenTip = movie.text # .encode('cp1252')"
   ]
  },
  {
   "cell_type": "markdown",
   "metadata": {
    "slideshow": {
     "slide_type": "slide"
    }
   },
   "source": [
    "This is ordered by rank, which is useful, but this makes it hard to locate a specific movie. What if we could sort this alphabetically?\n",
    "\n",
    "But then, we don't want to lose the ordering by rank either. Could we, perhaps, get these movies to move on the click of a button to alphabetical or rank order?\n",
    "\n",
    "Let's start by adding two buttons -- one to sort alphabetically and the ohter to sort by rank."
   ]
  },
  {
   "cell_type": "code",
   "execution_count": 44,
   "metadata": {
    "slideshow": {
     "slide_type": "fragment"
    }
   },
   "outputs": [],
   "source": [
    "Base = Presentation.Slides.Add(1, ppLayoutBlank)\n",
    "\n",
    "# Add two buttons: alphabetical and by rating\n",
    "button_alpha = Base.Shapes.AddShape(msoShapeRectangle, 400, 10, 150, 40)\n",
    "button_alpha.TextFrame.TextRange.Text = 'Alphabetical'\n",
    "\n",
    "button_rating = Base.Shapes.AddShape(msoShapeRectangle, 560, 10, 150, 40)\n",
    "button_rating.TextFrame.TextRange.Text = 'By rating'\n",
    "\n",
    "# Get the index position when sorted alphabetically\n",
    "movies_alpha = sorted(movies, key=lambda v: v.text)\n",
    "index_alpha = dict((movie.text, i) for i, movie in enumerate(movies_alpha))"
   ]
  },
  {
   "cell_type": "markdown",
   "metadata": {
    "slideshow": {
     "slide_type": "slide"
    }
   },
   "source": [
    "We'll create a function that moves an image along a path when a trigger is clicked. This will be applied to each of the images."
   ]
  },
  {
   "cell_type": "code",
   "execution_count": 45,
   "metadata": {
    "slideshow": {
     "slide_type": "fragment"
    }
   },
   "outputs": [],
   "source": [
    "def animate(seq, image, trigger, path, duration=1.5):\n",
    "    '''Move image along path when trigger is clicked'''\n",
    "    effect = seq.AddEffect(\n",
    "       Shape=image,\n",
    "       effectId=msoAnimEffectPathDown,\n",
    "       trigger=msoAnimTriggerOnShapeClick,\n",
    "    )\n",
    "    ani = effect.Behaviors.Add(msoAnimTypeMotion)\n",
    "    ani.MotionEffect.Path = path\n",
    "    effect.Timing.TriggerType = msoAnimTriggerWithPrevious\n",
    "    effect.Timing.TriggerShape = trigger\n",
    "    effect.Timing.Duration = duration"
   ]
  },
  {
   "cell_type": "code",
   "execution_count": 46,
   "metadata": {
    "slideshow": {
     "slide_type": "slide"
    }
   },
   "outputs": [],
   "source": [
    "seq_alpha = Base.TimeLine.InteractiveSequences.Add()\n",
    "seq_rating = Base.TimeLine.InteractiveSequences.Add()\n",
    "\n",
    "width, height = 28, 41\n",
    "for i, movie in enumerate(movies):\n",
    "    x = 10 + width * (i % 25)\n",
    "    y = 100 + height * (i // 25)\n",
    "    image = Base.Shapes.AddPicture(\n",
    "        os.path.abspath(filename(movie)),\n",
    "        LinkToFile=True,\n",
    "        SaveWithDocument=False,\n",
    "        Left=x, Top=y,\n",
    "        Width=width, Height=height)\n",
    "    url = urljoin('http://www.imdb.com/', movie['href'])\n",
    "    link = image.ActionSettings(ppMouseClick).Hyperlink\n",
    "    link.Address = url\n",
    "    link.ScreenTip = movie.text  # .encode('cp1252')\n",
    "    \n",
    "    # Alphabetical \n",
    "    index = index_alpha[movie.text]\n",
    "    animate(seq_alpha, image, trigger=button_alpha, path='M0,0 L{:.3f},{:.3f}'.format(\n",
    "        (10 + width * (index % 25) - x) / 720.,\n",
    "        (100 + height * (index // 25) - y) / 540.,\n",
    "    ))\n",
    "    \n",
    "    # By rating\n",
    "    animate(seq_rating, image, trigger=button_rating, path='M{:.3f},{:.3f} L0,0'.format(\n",
    "        (10 + width * (index % 25) - x) / 720.,\n",
    "        (100 + height * (index // 25) - y) / 540.,\n",
    "    ))"
   ]
  },
  {
   "cell_type": "markdown",
   "metadata": {
    "slideshow": {
     "slide_type": "slide"
    }
   },
   "source": [
    "# Real-life examples\n",
    "\n",
    "You can see how these were put to use at [Gramener](http://gramener.com/):\n",
    "\n",
    "- [Vijay Karnataka's election coverage](http://gramener.com/vijaykarnataka/) was produced entirely in PowerPoint using Python. (And in Kannada, no less!)\n",
    "- [Appstore downloads](http://gramener.com/appstore/appstore.pptx) -- a mini interactive application that shows the number of downloads from an app store, broken up by country, device, customer segment and time.\n",
    "- [Revenue breakup](http://gramener.com/fmcg/fmcg-revenue-breakup.pptx) of an FMCG company as a clickable application"
   ]
  },
  {
   "cell_type": "markdown",
   "metadata": {
    "slideshow": {
     "slide_type": "slide"
    }
   },
   "source": [
    "#### This is Fancy, but... It will probably take lot of time to create these charts.\n",
    "\n",
    "### What if I want to automate existing charts in Office?"
   ]
  },
  {
   "cell_type": "markdown",
   "metadata": {
    "slideshow": {
     "slide_type": "slide"
    }
   },
   "source": [
    "### Microsoft adopted XML for PowerPoint 2007 and its other Office programs"
   ]
  },
  {
   "cell_type": "code",
   "execution_count": 48,
   "metadata": {
    "slideshow": {
     "slide_type": "fragment"
    }
   },
   "outputs": [],
   "source": [
    "from pptx import Presentation\n",
    "\n",
    "prs = Presentation()\n",
    "title_slide_layout = prs.slide_layouts[0]\n",
    "slide = prs.slides.add_slide(title_slide_layout)\n",
    "title = slide.shapes.title\n",
    "subtitle = slide.placeholders[1]\n",
    "\n",
    "title.text = \"Hello, World!\"\n",
    "subtitle.text = \"Subtitle\"\n",
    "\n",
    "prs.save('Azure.pptx')"
   ]
  },
  {
   "cell_type": "markdown",
   "metadata": {
    "slideshow": {
     "slide_type": "slide"
    }
   },
   "source": [
    "Now let's try to add a simple bar chart in our slide!"
   ]
  },
  {
   "cell_type": "code",
   "execution_count": 49,
   "metadata": {
    "slideshow": {
     "slide_type": "fragment"
    }
   },
   "outputs": [],
   "source": [
    "from pptx import Presentation\n",
    "from pptx.chart.data import CategoryChartData\n",
    "from pptx.enum.chart import XL_CHART_TYPE\n",
    "from pptx.util import Inches\n",
    "\n",
    "# create presentation with 1 slide ------\n",
    "prs = Presentation()\n",
    "slide = prs.slides.add_slide(prs.slide_layouts[5])\n",
    "\n",
    "# define chart data ---------------------\n",
    "chart_data = CategoryChartData()\n",
    "chart_data.categories = ['East', 'West', 'Midwest']\n",
    "chart_data.add_series('Series 1', (19.2, 21.4, 16.7))\n",
    "\n",
    "# add chart to slide --------------------\n",
    "x, y, cx, cy = Inches(2), Inches(2), Inches(6), Inches(4.5)\n",
    "slide.shapes.add_chart(\n",
    "    XL_CHART_TYPE.COLUMN_CLUSTERED, x, y, cx, cy, chart_data\n",
    ")\n",
    "\n",
    "prs.save('charttest.pptx')"
   ]
  },
  {
   "cell_type": "markdown",
   "metadata": {
    "slideshow": {
     "slide_type": "slide"
    }
   },
   "source": [
    "#### This is great! But I still need to write lot of code. Can we spend less time in writing code and focus on Chart and slides?"
   ]
  },
  {
   "cell_type": "markdown",
   "metadata": {
    "slideshow": {
     "slide_type": "fragment"
    }
   },
   "source": [
    "#### [Gramex PPTGen](https://learn.gramener.com/guide/pptxhandler/#pptgen-command-line) will help us do that! "
   ]
  },
  {
   "cell_type": "code",
   "execution_count": 51,
   "metadata": {
    "slideshow": {
     "slide_type": "fragment"
    }
   },
   "outputs": [],
   "source": [
    "from gramex.pptgen import pptgen\n",
    "pptgen(\n",
    "  source='input.pptx',      # optional path to source. Defaults to blank PPT with 1 slide\n",
    "  target='output2.pptx',     # optional target. Otherwise, returns the pptx.Presentation()\n",
    "  change={                  # Configurations are same as when loading from the YAML file\n",
    "    'Title 1': {            # Take the shape named \"Title 1\"\n",
    "      'text': 'Welcome to Azure DataFest 2019!'    # Replace its text with \"New Title\"\n",
    "    }\n",
    "  }\n",
    ")"
   ]
  },
  {
   "cell_type": "markdown",
   "metadata": {
    "slideshow": {
     "slide_type": "fragment"
    }
   },
   "source": [
    "#### Or You can use Command Line interface..."
   ]
  },
  {
   "cell_type": "markdown",
   "metadata": {
    "slideshow": {
     "slide_type": "fragment"
    }
   },
   "source": [
    "```pptgen config.yaml --target new.pptx \"--change.Title 1.text\" \"Updated title\"```"
   ]
  },
  {
   "cell_type": "code",
   "execution_count": 17,
   "metadata": {
    "slideshow": {
     "slide_type": "skip"
    }
   },
   "outputs": [],
   "source": [
    "### TODO: pptgen chart example"
   ]
  },
  {
   "cell_type": "markdown",
   "metadata": {
    "slideshow": {
     "slide_type": "slide"
    }
   },
   "source": [
    "# Live tweeting\n",
    "\n",
    "Just for kicks, let's use PowerPoint as a dashboard to show live tweets.\n",
    "\n",
    "I picked [TwitterAPI](https://github.com/geduldig/TwitterAPI) to get streaming results, but [twython](https://github.com/ryanmcgrath/twython) and [Python Twitter Tools](https://github.com/sixohsix/twitter) look fine too."
   ]
  },
  {
   "cell_type": "code",
   "execution_count": 52,
   "metadata": {
    "slideshow": {
     "slide_type": "fragment"
    }
   },
   "outputs": [],
   "source": [
    "from TwitterAPI import TwitterAPI\n",
    "\n",
    "# I'm keeping my keys and secrets in a secret file.\n",
    "from secret_twitter import consumer_key, consumer_secret, access_token_key, access_token_secret\n",
    "api = TwitterAPI(consumer_key, consumer_secret, access_token_key, access_token_secret)"
   ]
  },
  {
   "cell_type": "code",
   "execution_count": 53,
   "metadata": {
    "slideshow": {
     "slide_type": "slide"
    }
   },
   "outputs": [],
   "source": [
    "def draw_tweet(Base, item, pos):\n",
    "    y = 40 + (pos % 4) * 120\n",
    "    \n",
    "    image = Base.Shapes.AddPicture(\n",
    "        # To get the larger resolution image, just remove _normal from the URL\n",
    "        item['user']['profile_image_url'].replace('_normal', ''),\n",
    "        LinkToFile=True,\n",
    "        SaveWithDocument=False,\n",
    "        Left=20, Top=y,\n",
    "        Width=100, Height=100)\n",
    "    \n",
    "    try:\n",
    "        status = item['text']  #.encode('cp1252')\n",
    "    except UnicodeEncodeError:\n",
    "        status = item['text']\n",
    "    text = Base.Shapes.AddShape(msoShapeRectangle, 130, y, 460, 100)\n",
    "    text.Fill.ForeColor.ObjectThemeColor = msoThemeColorText1\n",
    "    text.Fill.ForeColor.Brightness = +0.95\n",
    "    text.Line.Visible = msoFalse\n",
    "    text.TextFrame.TextRange.Text = status\n",
    "    text.TextFrame.TextRange.Font.Color.ObjectThemeColor = msoThemeColorText1\n",
    "    text.TextFrame.TextRange.ParagraphFormat.Alignment = ppAlignLeft\n",
    "    \n",
    "    user = Base.Shapes.AddShape(msoShapeRectangle, 600, y, 100, 100)\n",
    "    user.Fill.ForeColor.ObjectThemeColor = msoThemeColorAccent6\n",
    "    user.Line.Visible = False\n",
    "    user.TextFrame.TextRange.Text = '@' + item['user']['screen_name']"
   ]
  },
  {
   "cell_type": "code",
   "execution_count": 54,
   "metadata": {
    "slideshow": {
     "slide_type": "slide"
    }
   },
   "outputs": [],
   "source": [
    "# Open PowerPoint\n",
    "Application = win32com.client.Dispatch(\"PowerPoint.Application\")\n",
    "\n",
    "# Add a presentation\n",
    "Presentation = Application.Presentations.Add()\n",
    "Presentation.PageSetup.SlideSize = ppSlideSizeOnScreen\n",
    "\n",
    "Base = Presentation.Slides.Add(1, ppLayoutBlank)\n",
    "r = api.request('search/tweets', {'q':'azuredatafest'})\n",
    "\n",
    "for pos, item in enumerate(r):\n",
    "    draw_tweet(Base, item, pos)\n",
    "    if pos > 10:\n",
    "        break"
   ]
  },
  {
   "cell_type": "markdown",
   "metadata": {
    "slideshow": {
     "slide_type": "slide"
    }
   },
   "source": [
    "## Thank You :-)"
   ]
  }
 ],
 "metadata": {
  "celltoolbar": "Slideshow",
  "kernelspec": {
   "display_name": "Python 3",
   "language": "python",
   "name": "python3"
  },
  "language_info": {
   "codemirror_mode": {
    "name": "ipython",
    "version": 3
   },
   "file_extension": ".py",
   "mimetype": "text/x-python",
   "name": "python",
   "nbconvert_exporter": "python",
   "pygments_lexer": "ipython3",
   "version": "3.7.3"
  }
 },
 "nbformat": 4,
 "nbformat_minor": 2
}
